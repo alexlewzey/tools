{
 "cells": [
  {
   "cell_type": "code",
   "execution_count": null,
   "metadata": {},
   "outputs": [],
   "source": [
    "import numpy as np\n",
    "import pandas as pd"
   ]
  },
  {
   "cell_type": "code",
   "execution_count": null,
   "metadata": {},
   "outputs": [],
   "source": [
    "def add_test_split_column(df: pd.DataFrame, test_proportion: float) -> pd.DataFrame:\n",
    "    idxs = np.random.permutation(len(df))\n",
    "    test_idxs = idxs[-int(test_proportion * len(df)) :]\n",
    "    df[\"split\"] = \"train\"\n",
    "    column_idx = df.columns.get_loc(\"split\")\n",
    "    df.iloc[test_idxs, column_idx] = \"test\"\n",
    "    return df"
   ]
  }
 ],
 "metadata": {
  "kernelspec": {
   "display_name": ".venv",
   "language": "python",
   "name": "python3"
  },
  "language_info": {
   "codemirror_mode": {
    "name": "ipython",
    "version": 3
   },
   "file_extension": ".py",
   "mimetype": "text/x-python",
   "name": "python",
   "nbconvert_exporter": "python",
   "pygments_lexer": "ipython3",
   "version": "3.10.9"
  }
 },
 "nbformat": 4,
 "nbformat_minor": 2
}
