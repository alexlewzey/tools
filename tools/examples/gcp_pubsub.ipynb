{
 "cells": [
  {
   "cell_type": "code",
   "execution_count": null,
   "metadata": {},
   "outputs": [],
   "source": [
    "import json\n",
    "import os\n",
    "import time\n",
    "from pathlib import Path\n",
    "\n",
    "from google.cloud import pubsub_v1\n",
    "from tqdm import tqdm"
   ]
  },
  {
   "cell_type": "markdown",
   "metadata": {},
   "source": [
    "## create topic and subscription"
   ]
  },
  {
   "cell_type": "code",
   "execution_count": null,
   "metadata": {},
   "outputs": [],
   "source": [
    "project_id: str = os.environ[\"GCP_PROJECT_ID\"]\n",
    "topic_name: str = \"new_topic\"\n",
    "sub_name: str = \"new_sub\"\n",
    "publisher = pubsub_v1.PublisherClient()\n",
    "topic_path = publisher.topic_path(project_id, topic_name)\n",
    "topic = publisher.create_topic(name=topic_path)\n",
    "subscriber = pubsub_v1.SubscriberClient()\n",
    "sub_path = subscriber.subscription_path(project_id, sub_name)\n",
    "subscription = subscriber.create_subscription(name=sub_path, topic=topic_path)"
   ]
  },
  {
   "cell_type": "markdown",
   "metadata": {},
   "source": [
    "## push to topic"
   ]
  },
  {
   "cell_type": "code",
   "execution_count": null,
   "metadata": {},
   "outputs": [],
   "source": [
    "publisher = pubsub_v1.PublisherClient()\n",
    "topic_path = publisher.topic_path(project_id, \"new_topic\")\n",
    "\n",
    "paths = (Path.home() / \"Desktop\" / \"music_tutorials\").iterdir()\n",
    "\n",
    "for path in tqdm(paths):\n",
    "    data_bytes = json.dumps(\n",
    "        {\n",
    "            \"url\": path.as_posix(),\n",
    "        }\n",
    "    ).encode(\"utf-8\")\n",
    "    future = publisher.publish(topic_path, data=data_bytes)"
   ]
  },
  {
   "cell_type": "markdown",
   "metadata": {},
   "source": [
    "## pull from topic"
   ]
  },
  {
   "cell_type": "code",
   "execution_count": null,
   "metadata": {},
   "outputs": [],
   "source": [
    "subscriber = pubsub_v1.SubscriberClient()\n",
    "sub_path = subscriber.subscription_path(project_id, \"new_sub\")\n",
    "\n",
    "while True:\n",
    "    response = subscriber.pull(request={\"subscription\": sub_path, \"max_messages\": 5})\n",
    "    print(f\"len(messages)={len(response.received_messages)}\")\n",
    "    if len(response.received_messages) == 0:\n",
    "        print(\"No messages\")\n",
    "        break\n",
    "\n",
    "    print(f\"BATCH: {time.time()}\")\n",
    "    for msg in response.received_messages:\n",
    "        print(json.loads(msg.message.data.decode()))\n",
    "\n",
    "    ack_ids = [msg.ack_id for msg in response.received_messages]\n",
    "    if ack_ids:\n",
    "        subscriber.acknowledge(request={\"subscription\": sub_path, \"ack_ids\": ack_ids})\n",
    "    time.sleep(2)"
   ]
  }
 ],
 "metadata": {
  "kernelspec": {
   "display_name": ".venv",
   "language": "python",
   "name": "python3"
  },
  "language_info": {
   "name": "python",
   "version": "3.10.9"
  }
 },
 "nbformat": 4,
 "nbformat_minor": 2
}
