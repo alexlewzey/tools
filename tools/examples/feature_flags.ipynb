{
 "cells": [
  {
   "cell_type": "code",
   "execution_count": null,
   "metadata": {},
   "outputs": [],
   "source": [
    "import hashlib\n",
    "\n",
    "import matplotlib.pyplot as plt\n",
    "import numpy as np\n",
    "from tqdm.auto import tqdm"
   ]
  },
  {
   "cell_type": "code",
   "execution_count": null,
   "metadata": {},
   "outputs": [],
   "source": [
    "# in practice would be read from no code source i.e. updateable without code change\n",
    "PCT_THRESHOLD: int = 20  # range=[1, 100]"
   ]
  },
  {
   "cell_type": "code",
   "execution_count": null,
   "metadata": {},
   "outputs": [],
   "source": [
    "def hash_score(id_: str) -> int:\n",
    "    hash_bytes = hashlib.md5(id_.encode()).digest()  # noqa: S324\n",
    "    hash_int = int.from_bytes(hash_bytes, byteorder=\"big\")\n",
    "    return hash_int % 100\n",
    "\n",
    "\n",
    "def plot_hash_scores(items):\n",
    "    hashes = [hash_score(i) for i in items]\n",
    "    plt.hist(hashes)\n",
    "    plt.show()"
   ]
  },
  {
   "cell_type": "code",
   "execution_count": null,
   "metadata": {},
   "outputs": [],
   "source": [
    "plot_hash_scores(np.arange(1000).astype(str))"
   ]
  },
  {
   "cell_type": "code",
   "execution_count": null,
   "metadata": {},
   "outputs": [],
   "source": [
    "n = 10_000\n",
    "hashes = np.zeros(n)\n",
    "ts = []\n",
    "for i in tqdm(range(10_000)):\n",
    "    hashes[i] = hash_score(str(i))\n",
    "    ts.append((hashes[: i + 1] > PCT_THRESHOLD).mean())"
   ]
  },
  {
   "cell_type": "code",
   "execution_count": null,
   "metadata": {},
   "outputs": [],
   "source": [
    "plt.plot(list(range(10_000)), ts)\n",
    "plt.show()"
   ]
  }
 ],
 "metadata": {
  "kernelspec": {
   "display_name": ".venv",
   "language": "python",
   "name": "python3"
  },
  "language_info": {
   "codemirror_mode": {
    "name": "ipython",
    "version": 3
   },
   "file_extension": ".py",
   "mimetype": "text/x-python",
   "name": "python",
   "nbconvert_exporter": "python",
   "pygments_lexer": "ipython3",
   "version": "3.10.9"
  }
 },
 "nbformat": 4,
 "nbformat_minor": 2
}
