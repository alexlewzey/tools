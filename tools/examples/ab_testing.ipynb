{
 "cells": [
  {
   "cell_type": "code",
   "execution_count": null,
   "metadata": {},
   "outputs": [],
   "source": [
    "!pip install -qq statsmodels seaborn pymc ipywidgets"
   ]
  },
  {
   "cell_type": "code",
   "execution_count": null,
   "metadata": {},
   "outputs": [],
   "source": [
    "import matplotlib.pyplot as plt\n",
    "import numpy as np\n",
    "from scipy.stats import beta\n",
    "from statsmodels.stats.proportion import proportions_ztest"
   ]
  },
  {
   "cell_type": "markdown",
   "metadata": {},
   "source": [
    "### The law of large numbers"
   ]
  },
  {
   "cell_type": "code",
   "execution_count": null,
   "metadata": {},
   "outputs": [],
   "source": [
    "n = 1000\n",
    "timesseries = []\n",
    "for _ in range(10):\n",
    "    values = np.random.randint(0, 2, (n))\n",
    "    index = np.arange(n) + 1\n",
    "    cum = np.cumsum(values)\n",
    "    pcts = cum / index\n",
    "    timesseries.append(pcts)\n",
    "\n",
    "plt.figure(figsize=(13, 4))\n",
    "for series in timesseries:\n",
    "    plt.plot(series, alpha=0.7)\n",
    "plt.axhline(0.5, c=\"black\", ls=\"--\")\n",
    "plt.axvline(10, c=\"black\", ls=\"--\")\n",
    "plt.axvline(100, c=\"black\", ls=\"--\")\n",
    "plt.show()"
   ]
  },
  {
   "cell_type": "markdown",
   "metadata": {},
   "source": [
    "### A/B tests (counts)"
   ]
  },
  {
   "cell_type": "code",
   "execution_count": null,
   "metadata": {},
   "outputs": [],
   "source": [
    "control_nobs = 100\n",
    "control_positive = 15\n",
    "control_rate = control_positive / control_nobs\n",
    "treatment_nobs = 100\n",
    "treatment_positive = 22\n",
    "treatment_rate = treatment_positive / treatment_nobs\n",
    "print(control_rate, treatment_rate)"
   ]
  },
  {
   "cell_type": "markdown",
   "metadata": {},
   "source": [
    "frequentist"
   ]
  },
  {
   "cell_type": "code",
   "execution_count": null,
   "metadata": {},
   "outputs": [],
   "source": [
    "def rate_test(control_positive, treatment_positive, control_nobs, treatment_nobs):\n",
    "    count = [control_positive, treatment_positive]\n",
    "    nobs = [control_nobs, treatment_nobs]\n",
    "    count, nobs = map(np.array, [count, nobs])\n",
    "    stat, pvalue = proportions_ztest(count, nobs)\n",
    "    print(f\"stat={stat:.3f}, pvalue={pvalue:.3f}\")\n",
    "    return stat, pvalue\n",
    "\n",
    "\n",
    "stat, pvalue = rate_test(\n",
    "    control_positive, treatment_positive, control_nobs, treatment_nobs\n",
    ")\n",
    "assert stat + 1.275 < 1e-3\n",
    "assert pvalue - 0.202 < 1e-3"
   ]
  },
  {
   "cell_type": "markdown",
   "metadata": {},
   "source": [
    "baysian"
   ]
  },
  {
   "cell_type": "code",
   "execution_count": null,
   "metadata": {},
   "outputs": [],
   "source": [
    "def baysian_ab_test(\n",
    "    control_positive: int,\n",
    "    treatment_positive: int,\n",
    "    control_nobs: int,\n",
    "    treatment_nobs: int,\n",
    "    a_prior: int = 1,\n",
    "    b_prior: int = 1,\n",
    "    n_sims: int = 1_000_000,\n",
    "):\n",
    "    a_control = a_prior + control_positive\n",
    "    b_control = b_prior + (control_nobs - control_positive)\n",
    "    a_treatment = a_prior + treatment_positive\n",
    "    b_treatment = b_prior + (treatment_nobs - treatment_positive)\n",
    "\n",
    "    control_posterior = beta.rvs(a_control, b_control, size=n_sims)\n",
    "    treatment_posterior = beta.rvs(a_treatment, b_treatment, size=n_sims)\n",
    "\n",
    "    prob_better = np.mean(control_posterior < treatment_posterior)\n",
    "    lift = np.mean(treatment_posterior - control_posterior)\n",
    "    prob_of_lift_gt_x = {}\n",
    "    for i in [0.01, 0.02, 0.03, 0.04, 0.05]:\n",
    "        prob_of_lift_gt_x[i] = np.mean(treatment_posterior - control_posterior > i)\n",
    "    pct2p5, pct97p5 = np.percentile(treatment_posterior, [2.5, 97.5])\n",
    "\n",
    "    print(f\"Prob treatment gt control: {prob_better:.2f}\")\n",
    "    print(f\"Average lift: {lift:.2f}\")\n",
    "    print(f\"CI 5%: {pct2p5:.2f} - {pct97p5:.2f}\")\n",
    "    print(\"Prob of lift greater than:\")\n",
    "    for k, v in prob_of_lift_gt_x.items():\n",
    "        print(f\"\\t{k}: {v:.2f}\")\n",
    "\n",
    "    plt.figure()\n",
    "    plt.hist(control_posterior, bins=50, label=\"control\", alpha=0.7)\n",
    "    plt.hist(treatment_posterior, bins=50, label=\"treatment\", alpha=0.7)\n",
    "    plt.xlim(0, 1)\n",
    "    plt.legend()\n",
    "    plt.show()\n",
    "\n",
    "    return prob_better, lift\n",
    "\n",
    "\n",
    "prob_better, lift = baysian_ab_test(\n",
    "    control_positive, treatment_positive, control_nobs, treatment_nobs\n",
    ")\n",
    "assert prob_better - 0.9 < 1e-3\n",
    "assert lift - 0.07 < 1e-3"
   ]
  },
  {
   "cell_type": "markdown",
   "metadata": {},
   "source": [
    "### A/B tests (continious)"
   ]
  },
  {
   "cell_type": "code",
   "execution_count": null,
   "metadata": {},
   "outputs": [],
   "source": [
    "import pymc as pm\n",
    "\n",
    "n = 100\n",
    "\n",
    "treatment = np.random.normal(loc=11, scale=3, size=n)\n",
    "control = np.random.normal(loc=10, scale=2, size=n)\n",
    "\n",
    "with pm.Model() as model:\n",
    "    mu1 = pm.Normal(\"mu1\", mu=0, sigma=10)\n",
    "    mu2 = pm.Normal(\"mu2\", mu=0, sigma=10)\n",
    "\n",
    "    sigma1 = pm.HalfNormal(\"sigma1\", sigma=10)\n",
    "    sigma2 = pm.HalfNormal(\"sigma2\", sigma=10)\n",
    "\n",
    "    y1 = pm.Normal(\"y1\", mu=mu1, sigma=sigma1, observed=treatment)\n",
    "    y2 = pm.Normal(\"y2\", mu=mu2, sigma=sigma2, observed=control)\n",
    "\n",
    "    diff = pm.Deterministic(\"diff\", mu1 - mu2)\n",
    "\n",
    "    trace = pm.sample()\n",
    "samples = trace.posterior[\"diff\"].values.flatten()\n",
    "\n",
    "prob_better = np.mean(samples > 0)\n",
    "lift = np.mean(samples)\n",
    "lb, ub = np.percentile(trace.posterior[\"mu1\"].values.flatten(), [0.05, 0.95])\n",
    "\n",
    "plt.figure()\n",
    "plt.hist(treatment, label=\"treatment\", alpha=0.7)\n",
    "plt.hist(control, label=\"control\", alpha=0.7)\n",
    "plt.legend()\n",
    "plt.show()\n",
    "\n",
    "print(f\"Prob treatment gt control: {prob_better:.2f}\")\n",
    "print(f\"Average lift: {lift:.2f}\")\n",
    "\n",
    "plt.hist(samples, bins=50)\n",
    "plt.axvline(0, color=\"r\", linestyle=\"--\")\n",
    "plt.title(\"Posterior samples of difference\")\n",
    "plt.show()\n",
    "\n",
    "treatment_samples = trace.posterior[\"mu1\"].values.flatten()\n",
    "control_samples = trace.posterior[\"mu2\"].values.flatten()\n",
    "\n",
    "plt.figure(figsize=(10, 6))\n",
    "plt.hist(treatment_samples, bins=50, alpha=0.5, label=\"mu1 posterior\")\n",
    "plt.hist(control_samples, bins=50, alpha=0.5, label=\"mu2 posterior\")\n",
    "plt.axvline(treatment.mean(), color=\"blue\", linestyle=\"--\", label=\"grp1 sample mean\")\n",
    "plt.axvline(control.mean(), color=\"orange\", linestyle=\"--\", label=\"grp2 sample mean\")\n",
    "plt.title(\"Posterior Distributions of mu1 and mu2\")\n",
    "plt.legend()\n",
    "plt.show()\n",
    "\n",
    "# Print some stats\n",
    "print(\n",
    "    f\"treatment: mean={np.mean(treatment_samples):.3f}, \"\n",
    "    f\"std={np.std(treatment_samples):.3f}\"\n",
    ")\n",
    "print(\n",
    "    f\"control: mean={np.mean(control_samples):.3f}, std={np.std(control_samples):.3f}\"\n",
    ")"
   ]
  },
  {
   "cell_type": "markdown",
   "metadata": {},
   "source": [
    "### Bayesian bootstrap"
   ]
  },
  {
   "cell_type": "markdown",
   "metadata": {},
   "source": [
    "Can be used for baysian AB test with non-normal continious data"
   ]
  },
  {
   "cell_type": "code",
   "execution_count": null,
   "metadata": {},
   "outputs": [],
   "source": [
    "n_samples: int = 10_000\n",
    "\n",
    "treatment = np.concatenate([np.random.normal(11, 2, 50), np.random.exponential(2, 50)])\n",
    "control = np.concatenate([np.random.normal(10, 2, 50), np.random.exponential(2, 50)])\n",
    "\n",
    "weights_treatment = np.random.dirichlet([1] * len(treatment), n_samples)\n",
    "weights_control = np.random.dirichlet([1] * len(control), n_samples)\n",
    "\n",
    "\n",
    "means_treatment = np.dot(weights_treatment, treatment)\n",
    "means_control = np.dot(weights_control, control)\n",
    "\n",
    "diff = means_treatment - means_control\n",
    "prob_better = np.mean(diff > 0)\n",
    "lift = np.mean(diff)\n",
    "ci_lower, ci_upper = np.percentile(diff, [2.5, 97.5])\n",
    "\n",
    "\n",
    "# plot raw data\n",
    "plt.figure()\n",
    "plt.hist(treatment, alpha=0.7, label=\"treatment\", bins=30)\n",
    "plt.hist(control, alpha=0.7, label=\"control\", bins=30)\n",
    "plt.legend()\n",
    "plt.show()\n",
    "\n",
    "\n",
    "# Print results\n",
    "print(f\"Probability that treatment is better than control: {prob_better:.1%}\")\n",
    "print(f\"Lift: {lift:.2f}\")\n",
    "print(f\"95% Credible Interval: ({ci_lower:.2f}, {ci_upper:.2f})\")\n",
    "\n",
    "# Plot the bootstrap distributions\n",
    "plt.figure(figsize=(10, 4))\n",
    "plt.subplot(1, 2, 1)\n",
    "plt.hist(means_treatment, bins=50, alpha=0.5, label=\"treatment\")\n",
    "plt.hist(means_control, bins=50, alpha=0.5, label=\"control\")\n",
    "plt.xlabel(\"Mean Value\")\n",
    "plt.ylabel(\"Frequency\")\n",
    "plt.title(\"Bootstrap Distribution of Means\")\n",
    "plt.legend()\n",
    "\n",
    "# Plot the difference distribution\n",
    "plt.subplot(1, 2, 2)\n",
    "plt.hist(diff, bins=50)\n",
    "plt.axvline(0, color=\"red\", linestyle=\"--\")\n",
    "plt.ylabel(\"Frequency\")\n",
    "plt.title(\"Distribution of Differences\")\n",
    "plt.tight_layout()\n",
    "plt.show()"
   ]
  },
  {
   "cell_type": "markdown",
   "metadata": {},
   "source": [
    "### multinomial ab test"
   ]
  },
  {
   "cell_type": "code",
   "execution_count": null,
   "metadata": {},
   "outputs": [],
   "source": [
    "import matplotlib.pyplot as plt\n",
    "import numpy as np\n",
    "\n",
    "# Example data: counts of observations in each category\n",
    "observed_counts = np.array([10, 5, 3])  # three categories\n",
    "num_categories = len(observed_counts)\n",
    "\n",
    "# Prior parameters (concentration parameters)\n",
    "# Using α = 1 for each category (uniform prior)\n",
    "alpha_prior = np.ones(num_categories)\n",
    "\n",
    "# Posterior parameters\n",
    "alpha_posterior = alpha_prior + observed_counts\n",
    "\n",
    "# Generate samples from the posterior distribution\n",
    "num_samples = 10000\n",
    "posterior_samples = np.random.dirichlet(alpha_posterior, num_samples)\n",
    "\n",
    "# Calculate expected probabilities\n",
    "expected_probs = alpha_posterior / alpha_posterior.sum()\n",
    "\n",
    "print(\"Expected probabilities:\", expected_probs)\n",
    "\n",
    "# Visualize the distributions for each category\n",
    "plt.figure(figsize=(12, 6))\n",
    "for i in range(num_categories):\n",
    "    plt.hist(posterior_samples[:, i], bins=50, alpha=0.5, label=f\"Category {i+1}\")\n",
    "    plt.axvline(expected_probs[i], color=f\"C{i}\", linestyle=\"--\")\n",
    "\n",
    "plt.title(\"Posterior Distributions of Category Probabilities\")\n",
    "plt.xlabel(\"Probability\")\n",
    "plt.ylabel(\"Frequency\")\n",
    "plt.legend()\n",
    "plt.show()\n",
    "\n",
    "# Generate a single sample of probabilities\n",
    "sample_probs = np.random.dirichlet(alpha_posterior)\n",
    "print(\"\\nSample probabilities:\", sample_probs)\n",
    "\n",
    "# Simulate new data using these probabilities\n",
    "new_sample_size = 100\n",
    "new_data = np.random.multinomial(new_sample_size, sample_probs)\n",
    "print(\"\\nSimulated new counts:\", new_data)\n",
    "\n",
    "# Calculate 95% credible intervals for each category\n",
    "credible_intervals = np.percentile(posterior_samples, [2.5, 97.5], axis=0)\n",
    "print(\"\\n95% Credible Intervals:\")\n",
    "for i in range(num_categories):\n",
    "    print(\n",
    "        f\"Category {i+1}: ({credible_intervals[0,i]:.3f}, \"\n",
    "        f\"{credible_intervals[1,i]:.3f})\"\n",
    "    )"
   ]
  },
  {
   "cell_type": "code",
   "execution_count": null,
   "metadata": {},
   "outputs": [],
   "source": [
    "np.mean(posterior_samples[0] > posterior_samples[-1])"
   ]
  }
 ],
 "metadata": {
  "kernelspec": {
   "display_name": ".venv",
   "language": "python",
   "name": "python3"
  },
  "language_info": {
   "codemirror_mode": {
    "name": "ipython",
    "version": 3
   },
   "file_extension": ".py",
   "mimetype": "text/x-python",
   "name": "python",
   "nbconvert_exporter": "python",
   "pygments_lexer": "ipython3",
   "version": "3.10.9"
  }
 },
 "nbformat": 4,
 "nbformat_minor": 2
}
