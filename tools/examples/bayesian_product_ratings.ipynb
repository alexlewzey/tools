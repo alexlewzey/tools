{
 "cells": [
  {
   "cell_type": "code",
   "execution_count": null,
   "metadata": {},
   "outputs": [],
   "source": [
    "import matplotlib.pyplot as plt\n",
    "import numpy as np\n",
    "from scipy import stats\n",
    "\n",
    "# settings\n",
    "simulations: int = 100_000\n",
    "prior_strength: int = 30\n",
    "prior_mean: int = 3.0\n",
    "max_rating: float = 5.0\n",
    "\n",
    "# arguments\n",
    "rating1 = 4.6\n",
    "n1 = 5165\n",
    "rating2 = 4.8\n",
    "n2 = 215\n",
    "\n",
    "# Convert ratings to proportions\n",
    "p1 = rating1 / max_rating\n",
    "p2 = rating2 / max_rating\n",
    "prior_p = prior_mean / max_rating\n",
    "\n",
    "# Add prior pseudo-counts to both distributions\n",
    "alpha1 = p1 * n1 + prior_p * prior_strength\n",
    "beta1 = (1 - p1) * n1 + (1 - prior_p) * prior_strength\n",
    "alpha2 = p2 * n2 + prior_p * prior_strength\n",
    "beta2 = (1 - p2) * n2 + (1 - prior_p) * prior_strength\n",
    "\n",
    "# Create beta distributions\n",
    "dist1 = stats.beta(alpha1, beta1)\n",
    "dist2 = stats.beta(alpha2, beta2)\n",
    "\n",
    "# Monte Carlo simulation to compare distributions\n",
    "samples1 = dist1.rvs(simulations)\n",
    "samples2 = dist2.rvs(simulations)\n",
    "prob_2_better = np.mean(samples2 > samples1)\n",
    "\n",
    "print(f\"Probability that 4.8 rating is better: {prob_2_better:.1%}\")\n",
    "x = np.linspace(0, 1, 1000)\n",
    "plt.figure(figsize=(12, 5))\n",
    "plt.plot(x, dist1.pdf(x), label=\"1\")\n",
    "plt.plot(x, dist2.pdf(x), label=\"2\")\n",
    "plt.legend()\n",
    "plt.show()"
   ]
  },
  {
   "cell_type": "code",
   "execution_count": null,
   "metadata": {},
   "outputs": [],
   "source": []
  }
 ],
 "metadata": {
  "kernelspec": {
   "display_name": ".venv",
   "language": "python",
   "name": "python3"
  },
  "language_info": {
   "codemirror_mode": {
    "name": "ipython",
    "version": 3
   },
   "file_extension": ".py",
   "mimetype": "text/x-python",
   "name": "python",
   "nbconvert_exporter": "python",
   "pygments_lexer": "ipython3",
   "version": "3.10.9"
  }
 },
 "nbformat": 4,
 "nbformat_minor": 2
}
